{
 "cells": [
  {
   "cell_type": "code",
   "execution_count": 1,
   "id": "7a6b4ae1",
   "metadata": {},
   "outputs": [],
   "source": [
    "#import Library"
   ]
  },
  {
   "cell_type": "code",
   "execution_count": 2,
   "id": "21b8db01",
   "metadata": {},
   "outputs": [],
   "source": [
    "import pandas as pd"
   ]
  },
  {
   "cell_type": "code",
   "execution_count": 3,
   "id": "9128476a",
   "metadata": {},
   "outputs": [],
   "source": [
    "import numpy as np"
   ]
  },
  {
   "cell_type": "code",
   "execution_count": 4,
   "id": "19b92f1c",
   "metadata": {},
   "outputs": [],
   "source": [
    "aks=pd.read_csv(\"Bike Prices.csv\")"
   ]
  },
  {
   "cell_type": "code",
   "execution_count": 5,
   "id": "cd12547e",
   "metadata": {},
   "outputs": [
    {
     "data": {
      "text/html": [
       "<div>\n",
       "<style scoped>\n",
       "    .dataframe tbody tr th:only-of-type {\n",
       "        vertical-align: middle;\n",
       "    }\n",
       "\n",
       "    .dataframe tbody tr th {\n",
       "        vertical-align: top;\n",
       "    }\n",
       "\n",
       "    .dataframe thead th {\n",
       "        text-align: right;\n",
       "    }\n",
       "</style>\n",
       "<table border=\"1\" class=\"dataframe\">\n",
       "  <thead>\n",
       "    <tr style=\"text-align: right;\">\n",
       "      <th></th>\n",
       "      <th>Brand</th>\n",
       "      <th>Model</th>\n",
       "      <th>Selling_Price</th>\n",
       "      <th>Year</th>\n",
       "      <th>Seller_Type</th>\n",
       "      <th>Owner</th>\n",
       "      <th>KM_Driven</th>\n",
       "      <th>Ex_Showroom_Price</th>\n",
       "    </tr>\n",
       "  </thead>\n",
       "  <tbody>\n",
       "    <tr>\n",
       "      <th>0</th>\n",
       "      <td>TVS</td>\n",
       "      <td>TVS XL 100</td>\n",
       "      <td>30000</td>\n",
       "      <td>2017</td>\n",
       "      <td>Individual</td>\n",
       "      <td>1st owner</td>\n",
       "      <td>8000</td>\n",
       "      <td>30490.0</td>\n",
       "    </tr>\n",
       "    <tr>\n",
       "      <th>1</th>\n",
       "      <td>Bajaj</td>\n",
       "      <td>Bajaj  ct 100</td>\n",
       "      <td>18000</td>\n",
       "      <td>2017</td>\n",
       "      <td>Individual</td>\n",
       "      <td>1st owner</td>\n",
       "      <td>35000</td>\n",
       "      <td>32000.0</td>\n",
       "    </tr>\n",
       "    <tr>\n",
       "      <th>2</th>\n",
       "      <td>Yo</td>\n",
       "      <td>Yo Style</td>\n",
       "      <td>20000</td>\n",
       "      <td>2011</td>\n",
       "      <td>Individual</td>\n",
       "      <td>1st owner</td>\n",
       "      <td>10000</td>\n",
       "      <td>37675.0</td>\n",
       "    </tr>\n",
       "    <tr>\n",
       "      <th>3</th>\n",
       "      <td>Bajaj</td>\n",
       "      <td>Bajaj Discover 100</td>\n",
       "      <td>25000</td>\n",
       "      <td>2010</td>\n",
       "      <td>Individual</td>\n",
       "      <td>1st owner</td>\n",
       "      <td>43000</td>\n",
       "      <td>42859.0</td>\n",
       "    </tr>\n",
       "    <tr>\n",
       "      <th>4</th>\n",
       "      <td>Bajaj</td>\n",
       "      <td>Bajaj Discover 100</td>\n",
       "      <td>24999</td>\n",
       "      <td>2012</td>\n",
       "      <td>Individual</td>\n",
       "      <td>2nd owner</td>\n",
       "      <td>35000</td>\n",
       "      <td>42859.0</td>\n",
       "    </tr>\n",
       "  </tbody>\n",
       "</table>\n",
       "</div>"
      ],
      "text/plain": [
       "   Brand               Model  Selling_Price  Year Seller_Type      Owner  \\\n",
       "0    TVS          TVS XL 100          30000  2017  Individual  1st owner   \n",
       "1  Bajaj       Bajaj  ct 100          18000  2017  Individual  1st owner   \n",
       "2     Yo            Yo Style          20000  2011  Individual  1st owner   \n",
       "3  Bajaj  Bajaj Discover 100          25000  2010  Individual  1st owner   \n",
       "4  Bajaj  Bajaj Discover 100          24999  2012  Individual  2nd owner   \n",
       "\n",
       "   KM_Driven  Ex_Showroom_Price  \n",
       "0       8000            30490.0  \n",
       "1      35000            32000.0  \n",
       "2      10000            37675.0  \n",
       "3      43000            42859.0  \n",
       "4      35000            42859.0  "
      ]
     },
     "execution_count": 5,
     "metadata": {},
     "output_type": "execute_result"
    }
   ],
   "source": [
    "aks.head()#get the first five rows of dataframe"
   ]
  },
  {
   "cell_type": "code",
   "execution_count": 6,
   "id": "7f8f2085",
   "metadata": {},
   "outputs": [
    {
     "name": "stdout",
     "output_type": "stream",
     "text": [
      "<class 'pandas.core.frame.DataFrame'>\n",
      "RangeIndex: 1061 entries, 0 to 1060\n",
      "Data columns (total 8 columns):\n",
      " #   Column             Non-Null Count  Dtype  \n",
      "---  ------             --------------  -----  \n",
      " 0   Brand              1061 non-null   object \n",
      " 1   Model              1061 non-null   object \n",
      " 2   Selling_Price      1061 non-null   int64  \n",
      " 3   Year               1061 non-null   int64  \n",
      " 4   Seller_Type        1061 non-null   object \n",
      " 5   Owner              1061 non-null   object \n",
      " 6   KM_Driven          1061 non-null   int64  \n",
      " 7   Ex_Showroom_Price  626 non-null    float64\n",
      "dtypes: float64(1), int64(3), object(4)\n",
      "memory usage: 66.4+ KB\n"
     ]
    }
   ],
   "source": [
    "aks.info()#get info of dataframe"
   ]
  },
  {
   "cell_type": "code",
   "execution_count": 7,
   "id": "86930e8c",
   "metadata": {},
   "outputs": [],
   "source": [
    "aks = aks.dropna()#get missing values Drop"
   ]
  },
  {
   "cell_type": "code",
   "execution_count": 8,
   "id": "78fe68ed",
   "metadata": {},
   "outputs": [
    {
     "data": {
      "text/html": [
       "<div>\n",
       "<style scoped>\n",
       "    .dataframe tbody tr th:only-of-type {\n",
       "        vertical-align: middle;\n",
       "    }\n",
       "\n",
       "    .dataframe tbody tr th {\n",
       "        vertical-align: top;\n",
       "    }\n",
       "\n",
       "    .dataframe thead th {\n",
       "        text-align: right;\n",
       "    }\n",
       "</style>\n",
       "<table border=\"1\" class=\"dataframe\">\n",
       "  <thead>\n",
       "    <tr style=\"text-align: right;\">\n",
       "      <th></th>\n",
       "      <th>Selling_Price</th>\n",
       "      <th>Year</th>\n",
       "      <th>KM_Driven</th>\n",
       "      <th>Ex_Showroom_Price</th>\n",
       "    </tr>\n",
       "  </thead>\n",
       "  <tbody>\n",
       "    <tr>\n",
       "      <th>count</th>\n",
       "      <td>626.000000</td>\n",
       "      <td>626.000000</td>\n",
       "      <td>626.000000</td>\n",
       "      <td>6.260000e+02</td>\n",
       "    </tr>\n",
       "    <tr>\n",
       "      <th>mean</th>\n",
       "      <td>59445.164537</td>\n",
       "      <td>2014.800319</td>\n",
       "      <td>32671.576677</td>\n",
       "      <td>8.795871e+04</td>\n",
       "    </tr>\n",
       "    <tr>\n",
       "      <th>std</th>\n",
       "      <td>59904.350888</td>\n",
       "      <td>3.018885</td>\n",
       "      <td>45479.661039</td>\n",
       "      <td>7.749659e+04</td>\n",
       "    </tr>\n",
       "    <tr>\n",
       "      <th>min</th>\n",
       "      <td>6000.000000</td>\n",
       "      <td>2001.000000</td>\n",
       "      <td>380.000000</td>\n",
       "      <td>3.049000e+04</td>\n",
       "    </tr>\n",
       "    <tr>\n",
       "      <th>25%</th>\n",
       "      <td>30000.000000</td>\n",
       "      <td>2013.000000</td>\n",
       "      <td>13031.250000</td>\n",
       "      <td>5.485200e+04</td>\n",
       "    </tr>\n",
       "    <tr>\n",
       "      <th>50%</th>\n",
       "      <td>45000.000000</td>\n",
       "      <td>2015.000000</td>\n",
       "      <td>25000.000000</td>\n",
       "      <td>7.275250e+04</td>\n",
       "    </tr>\n",
       "    <tr>\n",
       "      <th>75%</th>\n",
       "      <td>65000.000000</td>\n",
       "      <td>2017.000000</td>\n",
       "      <td>40000.000000</td>\n",
       "      <td>8.703150e+04</td>\n",
       "    </tr>\n",
       "    <tr>\n",
       "      <th>max</th>\n",
       "      <td>760000.000000</td>\n",
       "      <td>2020.000000</td>\n",
       "      <td>585659.000000</td>\n",
       "      <td>1.278000e+06</td>\n",
       "    </tr>\n",
       "  </tbody>\n",
       "</table>\n",
       "</div>"
      ],
      "text/plain": [
       "       Selling_Price         Year      KM_Driven  Ex_Showroom_Price\n",
       "count     626.000000   626.000000     626.000000       6.260000e+02\n",
       "mean    59445.164537  2014.800319   32671.576677       8.795871e+04\n",
       "std     59904.350888     3.018885   45479.661039       7.749659e+04\n",
       "min      6000.000000  2001.000000     380.000000       3.049000e+04\n",
       "25%     30000.000000  2013.000000   13031.250000       5.485200e+04\n",
       "50%     45000.000000  2015.000000   25000.000000       7.275250e+04\n",
       "75%     65000.000000  2017.000000   40000.000000       8.703150e+04\n",
       "max    760000.000000  2020.000000  585659.000000       1.278000e+06"
      ]
     },
     "execution_count": 8,
     "metadata": {},
     "output_type": "execute_result"
    }
   ],
   "source": [
    "aks.describe() #get summary Statistics"
   ]
  },
  {
   "cell_type": "code",
   "execution_count": 9,
   "id": "7deccea3",
   "metadata": {},
   "outputs": [],
   "source": [
    "#get categories and count of categorical variables"
   ]
  },
  {
   "cell_type": "code",
   "execution_count": 10,
   "id": "71ec0638",
   "metadata": {},
   "outputs": [
    {
     "data": {
      "text/plain": [
       "Brand   \n",
       "Honda       170\n",
       "Bajaj       143\n",
       "Hero        108\n",
       "Yamaha       94\n",
       "Royal        40\n",
       "TVS          23\n",
       "Suzuki       18\n",
       "KTM           6\n",
       "Mahindra      6\n",
       "Kawasaki      4\n",
       "UM            3\n",
       "Activa        3\n",
       "Harley        2\n",
       "Vespa         2\n",
       "BMW           1\n",
       "Hyosung       1\n",
       "Benelli       1\n",
       "Yo            1\n",
       "dtype: int64"
      ]
     },
     "execution_count": 10,
     "metadata": {},
     "output_type": "execute_result"
    }
   ],
   "source": [
    "aks[[\"Brand\"]].value_counts()"
   ]
  },
  {
   "cell_type": "code",
   "execution_count": 11,
   "id": "e7b2ec0e",
   "metadata": {},
   "outputs": [
    {
     "data": {
      "text/plain": [
       "Model                                     \n",
       "Honda Activa [2000-2015]                      23\n",
       "Honda CB Hornet 160R                          22\n",
       "Bajaj Pulsar 180                              20\n",
       "Yamaha FZ S V 2.0                             16\n",
       "Bajaj Discover 125                            16\n",
       "                                              ..\n",
       "Royal Enfield Thunderbird 500                  1\n",
       "Royal Enfield Continental GT [2013 - 2018]     1\n",
       "Royal Enfield Classic Stealth Black            1\n",
       "Royal Enfield Classic Squadron Blue            1\n",
       "Yo Style                                       1\n",
       "Length: 183, dtype: int64"
      ]
     },
     "execution_count": 11,
     "metadata": {},
     "output_type": "execute_result"
    }
   ],
   "source": [
    "aks[[\"Model\"]].value_counts()"
   ]
  },
  {
   "cell_type": "code",
   "execution_count": 12,
   "id": "5dc1aff6",
   "metadata": {},
   "outputs": [],
   "source": [
    "#get column names"
   ]
  },
  {
   "cell_type": "code",
   "execution_count": 13,
   "id": "a8b519c1",
   "metadata": {},
   "outputs": [
    {
     "data": {
      "text/plain": [
       "Index(['Brand', 'Model', 'Selling_Price', 'Year', 'Seller_Type', 'Owner',\n",
       "       'KM_Driven', 'Ex_Showroom_Price'],\n",
       "      dtype='object')"
      ]
     },
     "execution_count": 13,
     "metadata": {},
     "output_type": "execute_result"
    }
   ],
   "source": [
    "aks.columns"
   ]
  },
  {
   "cell_type": "code",
   "execution_count": 14,
   "id": "d37c933f",
   "metadata": {},
   "outputs": [],
   "source": [
    "#get shape of Dataframe"
   ]
  },
  {
   "cell_type": "code",
   "execution_count": 15,
   "id": "e888a209",
   "metadata": {},
   "outputs": [
    {
     "data": {
      "text/plain": [
       "(626, 8)"
      ]
     },
     "execution_count": 15,
     "metadata": {},
     "output_type": "execute_result"
    }
   ],
   "source": [
    "aks.shape"
   ]
  },
  {
   "cell_type": "code",
   "execution_count": 16,
   "id": "2ae1a7d9",
   "metadata": {},
   "outputs": [],
   "source": [
    "#Get encoding of categorical festures"
   ]
  },
  {
   "cell_type": "code",
   "execution_count": 17,
   "id": "cf57c3c5",
   "metadata": {},
   "outputs": [],
   "source": [
    "aks.replace({'Seller_Type':{'Individual':0,'Dealer':1}},inplace=True)"
   ]
  },
  {
   "cell_type": "code",
   "execution_count": 18,
   "id": "db8dd04f",
   "metadata": {},
   "outputs": [],
   "source": [
    " aks.replace({'Owner':{'1st owner':0,'2nd owner':1,'3rd owner':2,'4th owner':3, }},inplace=True)"
   ]
  },
  {
   "cell_type": "code",
   "execution_count": 19,
   "id": "55f5ae96",
   "metadata": {},
   "outputs": [],
   "source": [
    " #X = pd.get_dummies(X,columns = ['Seller_Type','Owner'],Drop_First=True)"
   ]
  },
  {
   "cell_type": "code",
   "execution_count": 20,
   "id": "13758899",
   "metadata": {},
   "outputs": [],
   "source": [
    "#its always recommended to use Dummy Variables in case of categorical features"
   ]
  },
  {
   "cell_type": "code",
   "execution_count": 21,
   "id": "a695ffd7",
   "metadata": {},
   "outputs": [],
   "source": [
    "y = aks['Selling_Price'] #define y (dependent or label or target variable)and x (independant or features or attribute Variable)"
   ]
  },
  {
   "cell_type": "code",
   "execution_count": 22,
   "id": "8010c108",
   "metadata": {},
   "outputs": [
    {
     "data": {
      "text/plain": [
       "(626,)"
      ]
     },
     "execution_count": 22,
     "metadata": {},
     "output_type": "execute_result"
    }
   ],
   "source": [
    "y.shape"
   ]
  },
  {
   "cell_type": "code",
   "execution_count": 23,
   "id": "b6f4a2ad",
   "metadata": {},
   "outputs": [
    {
     "data": {
      "text/plain": [
       "0       30000\n",
       "1       18000\n",
       "2       20000\n",
       "3       25000\n",
       "4       24999\n",
       "        ...  \n",
       "621    330000\n",
       "622    300000\n",
       "623    425000\n",
       "624    760000\n",
       "625    750000\n",
       "Name: Selling_Price, Length: 626, dtype: int64"
      ]
     },
     "execution_count": 23,
     "metadata": {},
     "output_type": "execute_result"
    }
   ],
   "source": [
    "y"
   ]
  },
  {
   "cell_type": "code",
   "execution_count": 24,
   "id": "d0ead767",
   "metadata": {},
   "outputs": [],
   "source": [
    "x= aks[['Year','Seller_Type','Owner','KM_Driven','Ex_Showroom_Price']]"
   ]
  },
  {
   "cell_type": "code",
   "execution_count": 25,
   "id": "2f551b64",
   "metadata": {},
   "outputs": [],
   "source": [
    "X = aks.drop(['Brand','Model','Selling_Price'],axis=1)"
   ]
  },
  {
   "cell_type": "code",
   "execution_count": 26,
   "id": "c46e1362",
   "metadata": {},
   "outputs": [
    {
     "data": {
      "text/plain": [
       "(626, 5)"
      ]
     },
     "execution_count": 26,
     "metadata": {},
     "output_type": "execute_result"
    }
   ],
   "source": [
    "x.shape"
   ]
  },
  {
   "cell_type": "code",
   "execution_count": 27,
   "id": "3e835954",
   "metadata": {},
   "outputs": [
    {
     "data": {
      "text/html": [
       "<div>\n",
       "<style scoped>\n",
       "    .dataframe tbody tr th:only-of-type {\n",
       "        vertical-align: middle;\n",
       "    }\n",
       "\n",
       "    .dataframe tbody tr th {\n",
       "        vertical-align: top;\n",
       "    }\n",
       "\n",
       "    .dataframe thead th {\n",
       "        text-align: right;\n",
       "    }\n",
       "</style>\n",
       "<table border=\"1\" class=\"dataframe\">\n",
       "  <thead>\n",
       "    <tr style=\"text-align: right;\">\n",
       "      <th></th>\n",
       "      <th>Year</th>\n",
       "      <th>Seller_Type</th>\n",
       "      <th>Owner</th>\n",
       "      <th>KM_Driven</th>\n",
       "      <th>Ex_Showroom_Price</th>\n",
       "    </tr>\n",
       "  </thead>\n",
       "  <tbody>\n",
       "    <tr>\n",
       "      <th>0</th>\n",
       "      <td>2017</td>\n",
       "      <td>0</td>\n",
       "      <td>0</td>\n",
       "      <td>8000</td>\n",
       "      <td>30490.0</td>\n",
       "    </tr>\n",
       "    <tr>\n",
       "      <th>1</th>\n",
       "      <td>2017</td>\n",
       "      <td>0</td>\n",
       "      <td>0</td>\n",
       "      <td>35000</td>\n",
       "      <td>32000.0</td>\n",
       "    </tr>\n",
       "    <tr>\n",
       "      <th>2</th>\n",
       "      <td>2011</td>\n",
       "      <td>0</td>\n",
       "      <td>0</td>\n",
       "      <td>10000</td>\n",
       "      <td>37675.0</td>\n",
       "    </tr>\n",
       "    <tr>\n",
       "      <th>3</th>\n",
       "      <td>2010</td>\n",
       "      <td>0</td>\n",
       "      <td>0</td>\n",
       "      <td>43000</td>\n",
       "      <td>42859.0</td>\n",
       "    </tr>\n",
       "    <tr>\n",
       "      <th>4</th>\n",
       "      <td>2012</td>\n",
       "      <td>0</td>\n",
       "      <td>1</td>\n",
       "      <td>35000</td>\n",
       "      <td>42859.0</td>\n",
       "    </tr>\n",
       "    <tr>\n",
       "      <th>...</th>\n",
       "      <td>...</td>\n",
       "      <td>...</td>\n",
       "      <td>...</td>\n",
       "      <td>...</td>\n",
       "      <td>...</td>\n",
       "    </tr>\n",
       "    <tr>\n",
       "      <th>621</th>\n",
       "      <td>2014</td>\n",
       "      <td>0</td>\n",
       "      <td>3</td>\n",
       "      <td>6500</td>\n",
       "      <td>534000.0</td>\n",
       "    </tr>\n",
       "    <tr>\n",
       "      <th>622</th>\n",
       "      <td>2011</td>\n",
       "      <td>0</td>\n",
       "      <td>0</td>\n",
       "      <td>12000</td>\n",
       "      <td>589000.0</td>\n",
       "    </tr>\n",
       "    <tr>\n",
       "      <th>623</th>\n",
       "      <td>2017</td>\n",
       "      <td>0</td>\n",
       "      <td>1</td>\n",
       "      <td>13600</td>\n",
       "      <td>599000.0</td>\n",
       "    </tr>\n",
       "    <tr>\n",
       "      <th>624</th>\n",
       "      <td>2019</td>\n",
       "      <td>0</td>\n",
       "      <td>0</td>\n",
       "      <td>2800</td>\n",
       "      <td>752020.0</td>\n",
       "    </tr>\n",
       "    <tr>\n",
       "      <th>625</th>\n",
       "      <td>2013</td>\n",
       "      <td>0</td>\n",
       "      <td>1</td>\n",
       "      <td>12000</td>\n",
       "      <td>1278000.0</td>\n",
       "    </tr>\n",
       "  </tbody>\n",
       "</table>\n",
       "<p>626 rows × 5 columns</p>\n",
       "</div>"
      ],
      "text/plain": [
       "     Year  Seller_Type  Owner  KM_Driven  Ex_Showroom_Price\n",
       "0    2017            0      0       8000            30490.0\n",
       "1    2017            0      0      35000            32000.0\n",
       "2    2011            0      0      10000            37675.0\n",
       "3    2010            0      0      43000            42859.0\n",
       "4    2012            0      1      35000            42859.0\n",
       "..    ...          ...    ...        ...                ...\n",
       "621  2014            0      3       6500           534000.0\n",
       "622  2011            0      0      12000           589000.0\n",
       "623  2017            0      1      13600           599000.0\n",
       "624  2019            0      0       2800           752020.0\n",
       "625  2013            0      1      12000          1278000.0\n",
       "\n",
       "[626 rows x 5 columns]"
      ]
     },
     "execution_count": 27,
     "metadata": {},
     "output_type": "execute_result"
    }
   ],
   "source": [
    "X"
   ]
  },
  {
   "cell_type": "code",
   "execution_count": 28,
   "id": "2878f957",
   "metadata": {},
   "outputs": [],
   "source": [
    "#get TRain test Split"
   ]
  },
  {
   "cell_type": "code",
   "execution_count": 29,
   "id": "6f329fa5",
   "metadata": {},
   "outputs": [],
   "source": [
    "from sklearn.model_selection import train_test_split"
   ]
  },
  {
   "cell_type": "code",
   "execution_count": 30,
   "id": "8fc37eb1",
   "metadata": {},
   "outputs": [],
   "source": [
    "X_train,X_test,y_train,y_test = train_test_split(X,y,test_size = 0.3,random_state=2529)"
   ]
  },
  {
   "cell_type": "code",
   "execution_count": 31,
   "id": "716eb55c",
   "metadata": {},
   "outputs": [
    {
     "data": {
      "text/plain": [
       "((438, 5), (188, 5), (438,), (188,))"
      ]
     },
     "execution_count": 31,
     "metadata": {},
     "output_type": "execute_result"
    }
   ],
   "source": [
    "X_train.shape,X_test.shape,y_train.shape,y_test.shape"
   ]
  },
  {
   "cell_type": "code",
   "execution_count": 32,
   "id": "802fac5c",
   "metadata": {},
   "outputs": [],
   "source": [
    "from sklearn.linear_model import LinearRegression"
   ]
  },
  {
   "cell_type": "code",
   "execution_count": 33,
   "id": "89532a0d",
   "metadata": {},
   "outputs": [],
   "source": [
    "lr = LinearRegression()"
   ]
  },
  {
   "cell_type": "code",
   "execution_count": 34,
   "id": "54e2f0d8",
   "metadata": {},
   "outputs": [
    {
     "data": {
      "text/plain": [
       "LinearRegression()"
      ]
     },
     "execution_count": 34,
     "metadata": {},
     "output_type": "execute_result"
    }
   ],
   "source": [
    "lr.fit(X_train,y_train)"
   ]
  },
  {
   "cell_type": "code",
   "execution_count": 35,
   "id": "f2304655",
   "metadata": {},
   "outputs": [],
   "source": [
    "y_pred = lr.predict(X_test)"
   ]
  },
  {
   "cell_type": "code",
   "execution_count": 36,
   "id": "140ae02e",
   "metadata": {},
   "outputs": [
    {
     "data": {
      "text/plain": [
       "(188,)"
      ]
     },
     "execution_count": 36,
     "metadata": {},
     "output_type": "execute_result"
    }
   ],
   "source": [
    "y_pred.shape"
   ]
  },
  {
   "cell_type": "code",
   "execution_count": 37,
   "id": "eda40377",
   "metadata": {},
   "outputs": [
    {
     "data": {
      "text/plain": [
       "array([ 27210.5227147 ,  56340.08335159,  63471.94672002,  53627.6384478 ,\n",
       "        55612.75744265,  53888.92259712,  33751.35275098,  60311.495019  ,\n",
       "       113713.05684462,  76639.49332943,  27826.73993817,  49919.83255837,\n",
       "        65886.64311457,  26755.12664077,  48277.75426033, 127646.56079329,\n",
       "        70047.10661638,  39350.67963645,  36081.03597878,  45360.79436328,\n",
       "        48079.89470575,  44803.0246479 ,  55161.44026111,  71041.51821314,\n",
       "        91689.22699149,  49301.53594653,  55988.19326242, 108171.54600295,\n",
       "        32771.06897888,  25468.20073029,  17128.61806157, 179271.41130728,\n",
       "        45698.99857637,  31371.09285071,  67886.52106722,  41492.49575811,\n",
       "        56855.22238599,  47820.47003473,  74682.14053953,  24984.21822749,\n",
       "        55374.00513693,  41412.36775224,  67991.60287762,  26553.59421841,\n",
       "        89788.69870683,  45764.83633683, 133888.03770382, 106988.11382492,\n",
       "        71176.40667705,  25332.25485951,  79512.43778818,  63914.38088167,\n",
       "        28632.12110982,  53656.13623927,  -5396.37132933,  70377.44571169,\n",
       "        33313.03576469,  53994.9247841 ,  67509.85836363,  59735.05378841,\n",
       "        22199.83644231,  15374.18984181,  44510.76819409,  30279.52476742,\n",
       "       108243.77037517,  19291.88958742,  53614.31297599,  59230.2326913 ,\n",
       "        60174.21081094,  45924.63468742,  25770.81883491,  63471.36257822,\n",
       "       242123.45729783,  61387.7254454 ,  56510.98127066,  48123.28087209,\n",
       "        51668.27442014,  90279.76190494,  14827.76533557, 112437.70820505,\n",
       "        35066.88027401,  30902.41069164,  31441.48921437, 125593.75847162,\n",
       "        27705.38813162, -11590.29205553,  15582.17108692,  75113.64511228,\n",
       "       504085.44522274, 123545.42050108,  74770.89327691,  50747.47663249,\n",
       "        44174.36182127,  25426.71561063,  30298.30524619,  47625.67836424,\n",
       "        27850.375448  ,  28845.23330927,  31580.38624696,  32309.6337562 ,\n",
       "        47979.16788546,  65955.46375942,  13432.2821802 ,  15368.80064976,\n",
       "        31973.23052409, 110353.92870538,  68181.49509151,  23143.49139792,\n",
       "        53194.65732074,  34603.36376971,  56002.50967868,  62432.66994302,\n",
       "       391470.77533185,   3558.29480876,  36019.18494316,  70876.34866548,\n",
       "        72890.00667018, 137596.01384356,  27620.36308876, 135789.30486848,\n",
       "        39674.40366793,  58367.09244524,  42401.21202617,  61864.43795666,\n",
       "        42688.8965284 ,  63710.34571013,  10604.39360061,  38458.82820938,\n",
       "       112251.84744217, 115403.00577523,  13658.41734789,  36196.83359582,\n",
       "        54146.22998932,  97297.85724845,  55029.68137255,  22923.26533438,\n",
       "       104569.97029673,  41965.75852017,  38759.6854647 ,  28930.61369014,\n",
       "        45231.66612565,  48475.43422806,  26739.72257319,  53598.65972193,\n",
       "        32558.54954515,  32212.22834945,  68172.98738415,  71839.47716452,\n",
       "        32003.46692223,  40652.69995974,  39935.92211839,  63444.41846208,\n",
       "        44545.58187706, 120873.38389612,  60926.58683174,  62641.82167494,\n",
       "        60816.47379998,  27098.95433581,  26803.64749631,  48956.00468627,\n",
       "        62032.88118709,  26471.97495721, 104937.23068747, 132903.35788462,\n",
       "        37469.2040942 ,  57579.12080159,  40371.00915738,  -7039.406625  ,\n",
       "        26485.40030066,  90782.42554122,  52153.21149324,  56453.74542445,\n",
       "        80440.59425997,  31890.46870266,  49505.97985575,  24288.36959521,\n",
       "        25540.4748157 , 117708.2633395 ,  23399.66596748,  63678.40865459,\n",
       "        70144.29372665,  33434.89010052,  60885.29444483,  58389.55370875,\n",
       "        35118.70403474,  58729.45401956,  34627.95322462,  38583.46239722])"
      ]
     },
     "execution_count": 37,
     "metadata": {},
     "output_type": "execute_result"
    }
   ],
   "source": [
    "y_pred"
   ]
  },
  {
   "cell_type": "code",
   "execution_count": 38,
   "id": "cac1f45d",
   "metadata": {},
   "outputs": [],
   "source": [
    "from sklearn.metrics import mean_squared_error,mean_absolute_error,r2_score"
   ]
  },
  {
   "cell_type": "code",
   "execution_count": 39,
   "id": "32711155",
   "metadata": {},
   "outputs": [
    {
     "data": {
      "text/plain": [
       "554715615.5045938"
      ]
     },
     "execution_count": 39,
     "metadata": {},
     "output_type": "execute_result"
    }
   ],
   "source": [
    "mean_squared_error(y_test,y_pred)"
   ]
  },
  {
   "cell_type": "code",
   "execution_count": 40,
   "id": "8f00f55d",
   "metadata": {},
   "outputs": [
    {
     "data": {
      "text/plain": [
       "12225.73701040738"
      ]
     },
     "execution_count": 40,
     "metadata": {},
     "output_type": "execute_result"
    }
   ],
   "source": [
    "mean_absolute_error(y_test,y_pred)"
   ]
  },
  {
   "cell_type": "code",
   "execution_count": 41,
   "id": "1d29cef9",
   "metadata": {},
   "outputs": [
    {
     "data": {
      "text/plain": [
       "0.881041440298445"
      ]
     },
     "execution_count": 41,
     "metadata": {},
     "output_type": "execute_result"
    }
   ],
   "source": [
    "r2_score(y_test,y_pred)"
   ]
  },
  {
   "cell_type": "code",
   "execution_count": 42,
   "id": "f9ebf7c4",
   "metadata": {},
   "outputs": [],
   "source": [
    "#get visualization of Actual vs predicted results"
   ]
  },
  {
   "cell_type": "code",
   "execution_count": 44,
   "id": "ad5181c5",
   "metadata": {},
   "outputs": [
    {
     "data": {
      "image/png": "[encoded data removed]",
      "text/plain": [
       "<Figure size 432x288 with 1 Axes>"
      ]
     },
     "metadata": {
      "needs_background": "light"
     },
     "output_type": "display_data"
    }
   ],
   "source": [
    "import matplotlib.pyplot as plt\n",
    "plt.scatter(y_test,y_pred)\n",
    "plt.xlabel(\"Actual Prices\")\n",
    "plt.ylabel(\"Predicted Prices\")\n",
    "plt.title(\"Actual Prices vs Predicted Prices\")\n",
    "plt.show()"
   ]
  },
  {
   "cell_type": "code",
   "execution_count": 45,
   "id": "50bd2412",
   "metadata": {},
   "outputs": [],
   "source": [
    "#get Future Predictions"
   ]
  },
  {
   "cell_type": "code",
   "execution_count": 46,
   "id": "8c81edc2",
   "metadata": {},
   "outputs": [],
   "source": [
    "aks_new = aks.sample(1)"
   ]
  },
  {
   "cell_type": "code",
   "execution_count": 47,
   "id": "5728d02a",
   "metadata": {},
   "outputs": [
    {
     "data": {
      "text/html": [
       "<div>\n",
       "<style scoped>\n",
       "    .dataframe tbody tr th:only-of-type {\n",
       "        vertical-align: middle;\n",
       "    }\n",
       "\n",
       "    .dataframe tbody tr th {\n",
       "        vertical-align: top;\n",
       "    }\n",
       "\n",
       "    .dataframe thead th {\n",
       "        text-align: right;\n",
       "    }\n",
       "</style>\n",
       "<table border=\"1\" class=\"dataframe\">\n",
       "  <thead>\n",
       "    <tr style=\"text-align: right;\">\n",
       "      <th></th>\n",
       "      <th>Brand</th>\n",
       "      <th>Model</th>\n",
       "      <th>Selling_Price</th>\n",
       "      <th>Year</th>\n",
       "      <th>Seller_Type</th>\n",
       "      <th>Owner</th>\n",
       "      <th>KM_Driven</th>\n",
       "      <th>Ex_Showroom_Price</th>\n",
       "    </tr>\n",
       "  </thead>\n",
       "  <tbody>\n",
       "    <tr>\n",
       "      <th>454</th>\n",
       "      <td>Bajaj</td>\n",
       "      <td>Bajaj Pulsar 180</td>\n",
       "      <td>25000</td>\n",
       "      <td>2011</td>\n",
       "      <td>0</td>\n",
       "      <td>0</td>\n",
       "      <td>43000</td>\n",
       "      <td>85011.0</td>\n",
       "    </tr>\n",
       "  </tbody>\n",
       "</table>\n",
       "</div>"
      ],
      "text/plain": [
       "     Brand             Model  Selling_Price  Year  Seller_Type  Owner  \\\n",
       "454  Bajaj  Bajaj Pulsar 180          25000  2011            0      0   \n",
       "\n",
       "     KM_Driven  Ex_Showroom_Price  \n",
       "454      43000            85011.0  "
      ]
     },
     "execution_count": 47,
     "metadata": {},
     "output_type": "execute_result"
    }
   ],
   "source": [
    "aks_new"
   ]
  },
  {
   "cell_type": "code",
   "execution_count": 48,
   "id": "810ca59a",
   "metadata": {},
   "outputs": [
    {
     "data": {
      "text/plain": [
       "(1, 8)"
      ]
     },
     "execution_count": 48,
     "metadata": {},
     "output_type": "execute_result"
    }
   ],
   "source": [
    " aks_new.shape"
   ]
  },
  {
   "cell_type": "code",
   "execution_count": 50,
   "id": "8d8d60b5",
   "metadata": {},
   "outputs": [],
   "source": [
    "X_new =aks_new.drop(['Brand','Model','Selling_Price'],axis = 1)"
   ]
  },
  {
   "cell_type": "code",
   "execution_count": null,
   "id": "e7d28d10",
   "metadata": {},
   "outputs": [],
   "source": [
    "y_pred_new = lr.predict(X_n)"
   ]
  }
 ],
 "metadata": {
  "kernelspec": {
   "display_name": "Python 3 (ipykernel)",
   "language": "python",
   "name": "python3"
  },
  "language_info": {
   "codemirror_mode": {
    "name": "ipython",
    "version": 3
   },
   "file_extension": ".py",
   "mimetype": "text/x-python",
   "name": "python",
   "nbconvert_exporter": "python",
   "pygments_lexer": "ipython3",
   "version": "3.9.7"
  }
 },
 "nbformat": 4,
 "nbformat_minor": 5
}
